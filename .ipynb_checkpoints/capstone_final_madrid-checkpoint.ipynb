{
 "cells": [
  {
   "cell_type": "markdown",
   "metadata": {},
   "source": [
    "# Capstone Project - Battle of Neighborhoods - Madrid (Spain)\n",
    "Applied Data Science Capstone final project. Analyzing Madrid's trending venues\n",
    "\n",
    "\n",
    "## 1. Analytic Approach\n",
    "Madrid (Spain) is one of the largest cities in Europe with a metropolitan area population of approximately 6.64 million and the municipality covers 604.3 squared kilometers. The city is divided into 21 districts and 132 neighboorhoods in total. \n",
    "\n",
    "For this project, we should be able to answer the following question: If someone is looking to open a restaurant in the city, where would we recommend that they could open it? \n",
    "\n",
    "To be able to answer that question, the appropriate approach would be to cluster the city by trending places, and analyze each cluster with statistical data.\n",
    "\n",
    "## 2. Data Requirements\n",
    "For this project, we will use information provided by Wikipedia in order to retrieve the boroughs and geographical coordinates of each neighboorhood of Madrid. An example of the dataset would be:\n",
    "<table>\n",
    "    <tr>\n",
    "    <th>Borough</th>\n",
    "    <th>Neighborhood</th>\n",
    "    <th>Latitude</th>\n",
    "    <th>Longitude</th>\n",
    "  </tr>\n",
    "  <tr>\n",
    "    <td>Centro</td>\n",
    "    <td>Palacio</td>\n",
    "    <td>40.415</td>\n",
    "    <td>-3.713333</td>\n",
    "  </tr>\n",
    "  <tr>\n",
    "    <td>Centro</td>\n",
    "    <td>Embajadores</td>\n",
    "    <td>40.408889</td>\n",
    "    <td>-3.699722</td>\n",
    "  </tr>\n",
    "   <tr>\n",
    "    <td>Centro</td>\n",
    "    <td>Cortes</td>\n",
    "    <td>40.414167</td>\n",
    "    <td>-3.698056</td>\n",
    "  </tr>\n",
    "   <tr>\n",
    "    <td>Centro</td>\n",
    "    <td>Justicia</td>\n",
    "    <td>40.423889</td>\n",
    "    <td>-3.696389</td>\n",
    "  </tr>\n",
    "</table>\n",
    "\n",
    "Then, we will access the Foursquare API features to get information of the top venues in the city, and we will do a clustering to find some common patterns. \n",
    "\n",
    "Also, we'll use statistical information about the venues per borough, and using folium and mapplotlib (both map and graph rendering libraries)  to plot the maps for making the information more readable. \n",
    "\n",
    "## links:\n",
    "https://es.wikipedia.org/wiki/Anexo:Distritos_de_Madrid"
   ]
  },
  {
   "cell_type": "code",
   "execution_count": null,
   "metadata": {},
   "outputs": [],
   "source": []
  }
 ],
 "metadata": {
  "kernelspec": {
   "display_name": "Python",
   "language": "python",
   "name": "conda-env-python-py"
  },
  "language_info": {
   "codemirror_mode": {
    "name": "ipython",
    "version": 3
   },
   "file_extension": ".py",
   "mimetype": "text/x-python",
   "name": "python",
   "nbconvert_exporter": "python",
   "pygments_lexer": "ipython3",
   "version": "3.6.10"
  }
 },
 "nbformat": 4,
 "nbformat_minor": 4
}
