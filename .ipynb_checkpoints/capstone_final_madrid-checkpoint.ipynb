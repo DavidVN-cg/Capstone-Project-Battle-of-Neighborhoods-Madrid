{
 "cells": [
  {
   "cell_type": "markdown",
   "metadata": {},
   "source": [
    "# Capstone Project - Battle of Neighborhoods - City of Madrid (Spain)\n",
    "Applied Data Science Capstone final project. Analyzing Madrid's trending venues\n",
    "\n",
    "## Table of Contents\n",
    "\n",
    "\n",
    "1. [Analytic Approach](#1)\n",
    "\n",
    "2. [Data Requirements](#2)\n",
    "    \n"
   ]
  },
  {
   "cell_type": "markdown",
   "metadata": {},
   "source": [
    "## Analytic Approach <a class=\"anchor\" id=\"1\"></a>\n",
    "Madrid (Spain) is one of the largest cities in Europe with a metropolitan area population of approximately 6.64 million and the municipality covers 604.3 squared kilometers. The city is divided into 21 districts and 132 neighboorhoods in total. \n",
    "\n",
    "For this project, we should be able to answer the following question: If someone is looking to open a restaurant in the city, where would we recommend that they could open it? \n",
    "\n",
    "Being the city of Madrid such a crowded city leads the owners of shops want places in the city where the population is dense. When the investors think about it, we expect from them to prefer the districts where there is a lower business cost and that there were not so many restaurants in the area of the type that they want to implant.\n",
    "\n",
    "In order to answer that question, in order to solve the problem posed, the appropriate approach would be to group the city marking trends and analyze each group with statistical data.\n"
   ]
  },
  {
   "cell_type": "markdown",
   "metadata": {},
   "source": [
    "## Data Requirements <a class=\"anchor\" id=\"2\"></a>\n",
    "For this project, we will use information provided by Wikipedia in order to retrieve the boroughs and geographical coordinates of each neighboorhood of Madrid. An example of the dataset would be:\n",
    "<table>\n",
    "    <tr>\n",
    "    <th>Borough</th>\n",
    "    <th>Neighborhood</th>\n",
    "    <th>Latitude</th>\n",
    "    <th>Longitude</th>\n",
    "  </tr>\n",
    "  <tr>\n",
    "    <td>Centro</td>\n",
    "    <td>Palacio</td>\n",
    "    <td>40.415</td>\n",
    "    <td>-3.713333</td>\n",
    "  </tr>\n",
    "  <tr>\n",
    "    <td>Centro</td>\n",
    "    <td>Embajadores</td>\n",
    "    <td>40.408889</td>\n",
    "    <td>-3.699722</td>\n",
    "  </tr>\n",
    "   <tr>\n",
    "    <td>Centro</td>\n",
    "    <td>Cortes</td>\n",
    "    <td>40.414167</td>\n",
    "    <td>-3.698056</td>\n",
    "  </tr>\n",
    "   <tr>\n",
    "    <td>Centro</td>\n",
    "    <td>Justicia</td>\n",
    "    <td>40.423889</td>\n",
    "    <td>-3.696389</td>\n",
    "  </tr>\n",
    "</table>\n",
    "\n",
    "Then, we will access the Foursquare API features to get information of the top venues in the city using the latitude and longitude of each neighborhood provided by the dataset, and finally we will do a clustering to find some common patterns and displaying them into a map. \n",
    "\n",
    "Also, we'll use statistical information about the venues per borough, and using folium and mapplotlib (both map and graph rendering libraries) to plot the maps for making the information more readable. \n",
    "\n",
    "### links:\n",
    "https://es.wikipedia.org/wiki/Anexo:Distritos_de_Madrid"
   ]
  },
  {
   "cell_type": "code",
   "execution_count": null,
   "metadata": {},
   "outputs": [],
   "source": []
  }
 ],
 "metadata": {
  "kernelspec": {
   "display_name": "Python",
   "language": "python",
   "name": "conda-env-python-py"
  },
  "language_info": {
   "codemirror_mode": {
    "name": "ipython",
    "version": 3
   },
   "file_extension": ".py",
   "mimetype": "text/x-python",
   "name": "python",
   "nbconvert_exporter": "python",
   "pygments_lexer": "ipython3",
   "version": "3.6.10"
  }
 },
 "nbformat": 4,
 "nbformat_minor": 4
}
